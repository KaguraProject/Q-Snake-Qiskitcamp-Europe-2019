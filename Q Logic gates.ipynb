{
 "cells": [
  {
   "cell_type": "code",
   "execution_count": 2,
   "metadata": {},
   "outputs": [],
   "source": [
    "import numpy as np\n",
    "from qiskit import *"
   ]
  },
  {
   "cell_type": "code",
   "execution_count": 5,
   "metadata": {},
   "outputs": [],
   "source": [
    "def Qand(First_bool,Second_bool):\n",
    "\n",
    "    #input two booleans into the function\n",
    "    a = int(First_bool)\n",
    "    b = int(Second_bool)\n",
    "\n",
    "    #quantum circuit that applies a Toffoli gate \n",
    "    q = QuantumRegister(3)\n",
    "\n",
    "    qc = QuantumCircuit(q)\n",
    "    if a is 1:\n",
    "        qc.x(0)\n",
    "    if b is 1:\n",
    "        qc.x(1)\n",
    "    qc.ccx(q[0], q[1], q[2])\n",
    "    \n",
    "    # Code for giving a True if the 3rd qubit is 1 and False if the 3rd qubit is 0\n",
    "    backend = Aer.get_backend('statevector_simulator')\n",
    "    job = execute(qc, backend)\n",
    "    result = job.result()\n",
    "    outputstate = result.get_statevector(qc, decimals=8)\n",
    "    Q_and = bool(int(np.real(outputstate[7])))\n",
    "    \n",
    "    return Q_and"
   ]
  },
  {
   "cell_type": "code",
   "execution_count": 6,
   "metadata": {},
   "outputs": [],
   "source": [
    "def Qor(First_bool,Second_bool):\n",
    "\n",
    "    #input two booleans into the function\n",
    "    a = int(First_bool)\n",
    "    b = int(Second_bool)\n",
    "\n",
    "    #quantum circuit that applies a Toffoli gate \n",
    "    q = QuantumRegister(3)\n",
    "\n",
    "    qc = QuantumCircuit(q)\n",
    "    if a is 1:\n",
    "        qc.x(0)\n",
    "    if b is 1:\n",
    "        qc.x(1)\n",
    "    qc.ccx(q[0], q[1], q[2])\n",
    "\n",
    "    # Code for giving a True at least one of the two control qubits are in state 1\n",
    "    backend = Aer.get_backend('statevector_simulator')\n",
    "    job = execute(qc, backend)\n",
    "    result = job.result()\n",
    "    outputstate = result.get_statevector(qc, decimals=8)\n",
    "\n",
    "    if a is 1 and b is 0:\n",
    "        Q_or = bool(int(np.real(outputstate[1])))\n",
    "    elif a is 0 and b is 1:\n",
    "        Q_or = bool(int(np.real(outputstate[2])))\n",
    "    else:\n",
    "        Q_or = bool(int(np.real(outputstate[7])))\n",
    "    \n",
    "    return(Q_or)"
   ]
  }
 ],
 "metadata": {
  "kernelspec": {
   "display_name": "Python 3",
   "language": "python",
   "name": "python3"
  },
  "language_info": {
   "codemirror_mode": {
    "name": "ipython",
    "version": 3
   },
   "file_extension": ".py",
   "mimetype": "text/x-python",
   "name": "python",
   "nbconvert_exporter": "python",
   "pygments_lexer": "ipython3",
   "version": "3.7.3"
  }
 },
 "nbformat": 4,
 "nbformat_minor": 2
}
