{
 "cells": [
  {
   "cell_type": "code",
   "execution_count": 3,
   "metadata": {},
   "outputs": [],
   "source": [
    "import numpy as np\n",
    "from qiskit import *"
   ]
  },
  {
   "cell_type": "code",
   "execution_count": 4,
   "metadata": {},
   "outputs": [
    {
     "name": "stdout",
     "output_type": "stream",
     "text": [
      "False\n",
      "False\n",
      "False\n",
      "True\n"
     ]
    }
   ],
   "source": [
    "def Qand(First_bool,Second_bool):\n",
    "\n",
    "    a = int(First_bool)\n",
    "    b = int(Second_bool)\n",
    "\n",
    "    q = QuantumRegister(3)\n",
    "\n",
    "    qc = QuantumCircuit(q)\n",
    "    if a is 1:\n",
    "        qc.x(0)\n",
    "    if b is 1:\n",
    "        qc.x(1)\n",
    "    qc.ccx(q[0], q[1], q[2])\n",
    "    qc.draw()\n",
    "\n",
    "    # Run the quantum circuit on a statevector simulator backend\n",
    "    backend = Aer.get_backend('statevector_simulator')\n",
    "\n",
    "    # Create a Quantum Program for execution \n",
    "    job = execute(qc, backend)\n",
    "\n",
    "    result = job.result()\n",
    "\n",
    "    outputstate = result.get_statevector(qc, decimals=8)\n",
    "    from qiskit.visualization import plot_state_city\n",
    "    plot_state_city(outputstate)\n",
    "    Q_and = bool(int(np.real(outputstate[7])))\n",
    "    print(Q_and)\n",
    "\n",
    "\n",
    "Qand(False,False)\n",
    "Qand(False,True)\n",
    "Qand(True,False)\n",
    "Qand(True,True)"
   ]
  },
  {
   "cell_type": "code",
   "execution_count": 5,
   "metadata": {},
   "outputs": [
    {
     "name": "stdout",
     "output_type": "stream",
     "text": [
      "False\n",
      "True\n",
      "True\n",
      "True\n"
     ]
    }
   ],
   "source": [
    "def Qor(First_bool,Second_bool):\n",
    "\n",
    "    a = int(First_bool)\n",
    "    b = int(Second_bool)\n",
    "\n",
    "    q = QuantumRegister(3)\n",
    "\n",
    "    qc = QuantumCircuit(q)\n",
    "    if a is 1:\n",
    "        qc.x(0)\n",
    "    if b is 1:\n",
    "        qc.x(1)\n",
    "    qc.ccx(q[0], q[1], q[2])\n",
    "    qc.draw()\n",
    "\n",
    "    # Run the quantum circuit on a statevector simulator backend\n",
    "    backend = Aer.get_backend('statevector_simulator')\n",
    "\n",
    "    # Create a Quantum Program for execution \n",
    "    job = execute(qc, backend)\n",
    "\n",
    "    result = job.result()\n",
    "\n",
    "    outputstate = result.get_statevector(qc, decimals=8)\n",
    "    from qiskit.visualization import plot_state_city\n",
    "    plot_state_city(outputstate)\n",
    "    if a is 1 and b is 0:\n",
    "        Q_or = bool(int(np.real(outputstate[1])))\n",
    "    elif a is 0 and b is 1:\n",
    "        Q_or = bool(int(np.real(outputstate[2])))\n",
    "    else:\n",
    "        Q_or = bool(int(np.real(outputstate[7])))\n",
    "    print(Q_or)\n",
    "\n",
    "\n",
    "Qor(False,False)\n",
    "Qor(True,False)\n",
    "Qor(False,True)\n",
    "Qor(True,True)"
   ]
  }
 ],
 "metadata": {
  "kernelspec": {
   "display_name": "Python 3",
   "language": "python",
   "name": "python3"
  },
  "language_info": {
   "codemirror_mode": {
    "name": "ipython",
    "version": 3
   },
   "file_extension": ".py",
   "mimetype": "text/x-python",
   "name": "python",
   "nbconvert_exporter": "python",
   "pygments_lexer": "ipython3",
   "version": "3.7.3"
  }
 },
 "nbformat": 4,
 "nbformat_minor": 2
}
